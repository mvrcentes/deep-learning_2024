{
 "cells": [
  {
   "cell_type": "code",
   "execution_count": 3,
   "metadata": {},
   "outputs": [],
   "source": [
    "import tensorflow as tf\n",
    "import pandas as pd\n",
    "import numpy as np\n",
    "import matplotlib.pyplot as plt\n",
    "from sklearn.model_selection import train_test_split"
   ]
  },
  {
   "cell_type": "code",
   "execution_count": 4,
   "metadata": {},
   "outputs": [],
   "source": [
    "df = pd.read_csv(\"./data/movie_statistic_dataset.csv\")"
   ]
  },
  {
   "cell_type": "code",
   "execution_count": 5,
   "metadata": {},
   "outputs": [],
   "source": [
    "df[\"profitability\"] = df[\"Production budget $\"]\n",
    "df[\"profitability\"] = (df['Worldwide gross $'] - df['Production budget $']) / df['Production budget $']\n"
   ]
  },
  {
   "cell_type": "code",
   "execution_count": 6,
   "metadata": {},
   "outputs": [
    {
     "name": "stdout",
     "output_type": "stream",
     "text": [
      "Mínimo: -0.9991716190476191\n",
      "Máximo: 497.75\n",
      "Número de valores nulos o NaN: 0\n"
     ]
    }
   ],
   "source": [
    "rentabilidad_min = df['profitability'].min()\n",
    "rentabilidad_max = df['profitability'].max()\n",
    "rentabilidad_num_nulos = df['profitability'].isnull().sum()\n",
    "\n",
    "print(\"Mínimo:\", rentabilidad_min)\n",
    "print(\"Máximo:\", rentabilidad_max)\n",
    "print(\"Número de valores nulos o NaN:\", rentabilidad_num_nulos)"
   ]
  },
  {
   "cell_type": "code",
   "execution_count": 7,
   "metadata": {},
   "outputs": [],
   "source": [
    "# Función para clasificar la rentabilidad\n",
    "def classify_profitability(value):\n",
    "    if value > 0:\n",
    "        return \"Profitable\"\n",
    "    else:\n",
    "        return \"Non-profitable\""
   ]
  },
  {
   "cell_type": "code",
   "execution_count": 8,
   "metadata": {},
   "outputs": [],
   "source": [
    "df['profitability'] = df['profitability'].apply(lambda x: classify_profitability(x))"
   ]
  },
  {
   "cell_type": "code",
   "execution_count": 9,
   "metadata": {},
   "outputs": [
    {
     "name": "stdout",
     "output_type": "stream",
     "text": [
      "Conteo de cada valor en la columna 'Profitability':\n",
      "profitability\n",
      "Profitable        3166\n",
      "Non-profitable    1214\n",
      "Name: count, dtype: int64\n",
      "\n",
      "Clase mayoritaria: Profitable\n",
      "Número de datos en la clase mayoritaria: 3166\n",
      "Porcentaje del total de datos para la clase mayoritaria: 72.28310502283105%\n",
      "\n",
      "Clase minoritaria: Non-profitable\n",
      "Número de datos en la clase minoritaria: 1214\n",
      "Porcentaje del total de datos para la clase minoritaria: 27.71689497716895\n"
     ]
    }
   ],
   "source": [
    "\n",
    "# Obtener el conteo de cada valor en la columna 'Profitability'\n",
    "profitability_counts = df['profitability'].value_counts()\n",
    "\n",
    "# Identificar la clase mayoritaria y la clase minoritaria\n",
    "majority_class = profitability_counts.idxmax()\n",
    "minority_class = profitability_counts.idxmin()\n",
    "\n",
    "# Obtener el número de datos en la clase mayoritaria y la clase minoritaria\n",
    "count_majority_class = profitability_counts.max()\n",
    "count_minority_class = profitability_counts.min()\n",
    "\n",
    "# Calcular el porcentaje del total de datos para ambas clases\n",
    "total_data = len(df)\n",
    "percentage_majority_class = (count_majority_class / total_data) * 100\n",
    "percentage_minority_class = (count_minority_class / total_data) * 100\n",
    "\n",
    "print(\"Conteo de cada valor en la columna 'Profitability':\")\n",
    "print(profitability_counts)\n",
    "\n",
    "print(f\"\\nClase mayoritaria: {majority_class}\")\n",
    "print(f\"Número de datos en la clase mayoritaria: {count_majority_class}\")\n",
    "print(f\"Porcentaje del total de datos para la clase mayoritaria: {percentage_majority_class}%\")\n",
    "\n",
    "print(f\"\\nClase minoritaria: {minority_class}\")\n",
    "print(f\"Número de datos en la clase minoritaria: {count_minority_class}\" )\n",
    "print(f\"Porcentaje del total de datos para la clase minoritaria: {percentage_minority_class}\")"
   ]
  },
  {
   "cell_type": "code",
   "execution_count": 10,
   "metadata": {},
   "outputs": [
    {
     "name": "stdout",
     "output_type": "stream",
     "text": [
      "Data perdida en caso de balanceo por eliminacion: 1952 (44.57%)\n"
     ]
    }
   ],
   "source": [
    "difference_count = count_majority_class - count_minority_class\n",
    "percentage_data_lost = 100*difference_count / total_data\n",
    "\n",
    "print(f\"Data perdida en caso de balanceo por eliminacion: {difference_count} ({percentage_data_lost:.2f}%)\")"
   ]
  },
  {
   "cell_type": "markdown",
   "metadata": {},
   "source": [
    "Dada la gran diferencia en la cantidad de muestras de la clase rentable con la no renabtle, se aplicará la técnica SMOTE para generar más muestras de películas no rentables. "
   ]
  },
  {
   "cell_type": "code",
   "execution_count": 11,
   "metadata": {},
   "outputs": [],
   "source": [
    "from imblearn.over_sampling import SMOTE\n"
   ]
  },
  {
   "cell_type": "code",
   "execution_count": 12,
   "metadata": {},
   "outputs": [
    {
     "name": "stdout",
     "output_type": "stream",
     "text": [
      "Index(['Action', 'Adventure', 'Animation', 'Biography', 'Comedy', 'Crime',\n",
      "       'Documentary', 'Drama', 'Family', 'Fantasy', 'Film-Noir', 'History',\n",
      "       'Horror', 'Music', 'Musical', 'Mystery', 'News', 'Romance', 'Sci-Fi',\n",
      "       'Sport', 'Thriller', 'War', 'Western'],\n",
      "      dtype='object')\n"
     ]
    }
   ],
   "source": [
    "genres_dummies = df['genres'].str.get_dummies(sep=',')\n",
    "genres_dummies.drop(['\\\\N'], axis=1, inplace=True)\n",
    "\n",
    "print(genres_dummies.columns)\n",
    "df = pd.concat([df, genres_dummies], axis= 1)\n",
    "df.drop(['genres'], axis=1, inplace=True)"
   ]
  },
  {
   "cell_type": "code",
   "execution_count": 13,
   "metadata": {},
   "outputs": [],
   "source": [
    "profitability = pd.get_dummies(df['profitability'], prefix= \"profitability\")\n",
    "df = pd.concat([df, profitability], axis= 1)\n",
    "df.drop(['profitability'], axis=1, inplace=True)"
   ]
  },
  {
   "cell_type": "code",
   "execution_count": 14,
   "metadata": {},
   "outputs": [],
   "source": [
    "X = df[['Action', 'Adventure', 'Animation', 'Biography', 'Comedy', 'Crime', 'Documentary', 'Drama', 'Family', 'Fantasy', 'Film-Noir', 'History', 'Horror', 'Music', 'Musical', 'Mystery', 'News', 'Romance', 'Sci-Fi', 'Sport', 'Thriller', 'War', 'Western', \n",
    "       'runtime_minutes',\n",
    "       'movie_averageRating',\n",
    "       'Production budget $']]\n",
    "y = df[['profitability_Non-profitable', 'profitability_Profitable']]\n",
    "\n",
    "X = np.asarray(X)\n",
    "\n",
    "# Dividir el conjunto de datos balanceado en entrenamiento y prueba\n",
    "X_train, X_test, y_train, y_test = train_test_split(X, y, test_size=0.2, random_state=42)\n",
    "y = np.asarray(y)"
   ]
  },
  {
   "cell_type": "code",
   "execution_count": 15,
   "metadata": {},
   "outputs": [
    {
     "data": {
      "text/plain": [
       "(4380, 26)"
      ]
     },
     "execution_count": 15,
     "metadata": {},
     "output_type": "execute_result"
    }
   ],
   "source": [
    "X.shape"
   ]
  },
  {
   "cell_type": "code",
   "execution_count": 16,
   "metadata": {},
   "outputs": [],
   "source": [
    "X_train, X_test, y_train, y_test = train_test_split(\n",
    "  X,\n",
    "  y,\n",
    "  test_size=0.20\n",
    ")"
   ]
  },
  {
   "cell_type": "code",
   "execution_count": 17,
   "metadata": {},
   "outputs": [],
   "source": [
    "from tensorflow.keras.models import Sequential\n",
    "from tensorflow.keras.layers import Dense, BatchNormalization, Dropout"
   ]
  },
  {
   "cell_type": "code",
   "execution_count": 18,
   "metadata": {},
   "outputs": [],
   "source": [
    "batched_model = Sequential([\n",
    "    Dense(128, input_shape=(26,), activation=\"LeakyReLU\"),\n",
    "    Dropout(0.2),\n",
    "    Dense(256, activation='LeakyReLU'),\n",
    "    Dropout(0.2),\n",
    "    Dense(256, activation='LeakyReLU'),\n",
    "    Dropout(0.2),\n",
    "    Dense(128, activation='tanh'),\n",
    "    Dropout(0.2),\n",
    "    Dense(128, activation='tanh'),\n",
    "    Dense(2, activation='softmax')\n",
    "])"
   ]
  },
  {
   "cell_type": "code",
   "execution_count": 19,
   "metadata": {},
   "outputs": [],
   "source": [
    "batched_model.compile(\n",
    "    optimizer='adam', \n",
    "    loss='categorical_crossentropy', \n",
    "    metrics=['accuracy']\n",
    ")"
   ]
  },
  {
   "cell_type": "code",
   "execution_count": 20,
   "metadata": {},
   "outputs": [
    {
     "name": "stdout",
     "output_type": "stream",
     "text": [
      "Epoch 1/200\n",
      "66/66 - 2s - loss: 0.6524 - accuracy: 0.6766 - val_loss: 0.6204 - val_accuracy: 0.7386 - 2s/epoch - 23ms/step\n",
      "Epoch 2/200\n",
      "66/66 - 0s - loss: 0.6328 - accuracy: 0.6990 - val_loss: 0.6568 - val_accuracy: 0.7386 - 337ms/epoch - 5ms/step\n",
      "Epoch 3/200\n",
      "66/66 - 0s - loss: 0.6247 - accuracy: 0.7028 - val_loss: 0.5852 - val_accuracy: 0.7386 - 338ms/epoch - 5ms/step\n",
      "Epoch 4/200\n",
      "66/66 - 0s - loss: 0.6252 - accuracy: 0.7104 - val_loss: 0.6726 - val_accuracy: 0.7386 - 319ms/epoch - 5ms/step\n",
      "Epoch 5/200\n",
      "66/66 - 0s - loss: 0.6181 - accuracy: 0.7119 - val_loss: 0.5838 - val_accuracy: 0.7386 - 325ms/epoch - 5ms/step\n",
      "Epoch 6/200\n",
      "66/66 - 0s - loss: 0.6135 - accuracy: 0.7142 - val_loss: 0.5756 - val_accuracy: 0.7386 - 309ms/epoch - 5ms/step\n",
      "Epoch 7/200\n",
      "66/66 - 0s - loss: 0.6160 - accuracy: 0.7119 - val_loss: 0.5971 - val_accuracy: 0.7386 - 331ms/epoch - 5ms/step\n",
      "Epoch 8/200\n",
      "66/66 - 0s - loss: 0.6163 - accuracy: 0.7150 - val_loss: 0.5790 - val_accuracy: 0.7386 - 319ms/epoch - 5ms/step\n",
      "Epoch 9/200\n",
      "66/66 - 0s - loss: 0.6062 - accuracy: 0.7184 - val_loss: 0.5948 - val_accuracy: 0.7386 - 326ms/epoch - 5ms/step\n",
      "Epoch 10/200\n",
      "66/66 - 0s - loss: 0.6046 - accuracy: 0.7184 - val_loss: 0.5800 - val_accuracy: 0.7386 - 310ms/epoch - 5ms/step\n",
      "Epoch 11/200\n",
      "66/66 - 0s - loss: 0.6080 - accuracy: 0.7158 - val_loss: 0.5816 - val_accuracy: 0.7386 - 306ms/epoch - 5ms/step\n",
      "Epoch 12/200\n",
      "66/66 - 0s - loss: 0.6079 - accuracy: 0.7180 - val_loss: 0.5802 - val_accuracy: 0.7386 - 305ms/epoch - 5ms/step\n",
      "Epoch 13/200\n",
      "66/66 - 0s - loss: 0.6062 - accuracy: 0.7188 - val_loss: 0.5872 - val_accuracy: 0.7386 - 301ms/epoch - 5ms/step\n",
      "Epoch 14/200\n",
      "66/66 - 0s - loss: 0.5991 - accuracy: 0.7211 - val_loss: 0.5746 - val_accuracy: 0.7386 - 307ms/epoch - 5ms/step\n",
      "Epoch 15/200\n",
      "66/66 - 0s - loss: 0.5987 - accuracy: 0.7188 - val_loss: 0.5846 - val_accuracy: 0.7386 - 310ms/epoch - 5ms/step\n",
      "Epoch 16/200\n",
      "66/66 - 0s - loss: 0.6018 - accuracy: 0.7177 - val_loss: 0.5747 - val_accuracy: 0.7386 - 302ms/epoch - 5ms/step\n",
      "Epoch 17/200\n",
      "66/66 - 0s - loss: 0.6038 - accuracy: 0.7188 - val_loss: 0.5751 - val_accuracy: 0.7386 - 304ms/epoch - 5ms/step\n",
      "Epoch 18/200\n",
      "66/66 - 0s - loss: 0.6024 - accuracy: 0.7192 - val_loss: 0.5767 - val_accuracy: 0.7386 - 304ms/epoch - 5ms/step\n",
      "Epoch 19/200\n",
      "66/66 - 0s - loss: 0.6064 - accuracy: 0.7173 - val_loss: 0.5856 - val_accuracy: 0.7386 - 302ms/epoch - 5ms/step\n",
      "Epoch 20/200\n",
      "66/66 - 0s - loss: 0.5991 - accuracy: 0.7192 - val_loss: 0.5754 - val_accuracy: 0.7386 - 293ms/epoch - 4ms/step\n",
      "Epoch 21/200\n",
      "66/66 - 0s - loss: 0.6002 - accuracy: 0.7196 - val_loss: 0.5748 - val_accuracy: 0.7386 - 307ms/epoch - 5ms/step\n",
      "Epoch 22/200\n",
      "66/66 - 0s - loss: 0.6003 - accuracy: 0.7188 - val_loss: 0.5755 - val_accuracy: 0.7386 - 307ms/epoch - 5ms/step\n",
      "Epoch 23/200\n",
      "66/66 - 0s - loss: 0.6007 - accuracy: 0.7192 - val_loss: 0.5779 - val_accuracy: 0.7386 - 296ms/epoch - 4ms/step\n",
      "Epoch 24/200\n",
      "66/66 - 0s - loss: 0.6027 - accuracy: 0.7192 - val_loss: 0.5841 - val_accuracy: 0.7386 - 298ms/epoch - 5ms/step\n",
      "Epoch 25/200\n",
      "66/66 - 0s - loss: 0.6043 - accuracy: 0.7192 - val_loss: 0.5746 - val_accuracy: 0.7386 - 314ms/epoch - 5ms/step\n",
      "Epoch 26/200\n",
      "66/66 - 0s - loss: 0.6061 - accuracy: 0.7192 - val_loss: 0.5751 - val_accuracy: 0.7386 - 302ms/epoch - 5ms/step\n",
      "Epoch 27/200\n",
      "66/66 - 0s - loss: 0.5997 - accuracy: 0.7196 - val_loss: 0.5746 - val_accuracy: 0.7386 - 310ms/epoch - 5ms/step\n",
      "Epoch 28/200\n",
      "66/66 - 0s - loss: 0.6040 - accuracy: 0.7192 - val_loss: 0.5811 - val_accuracy: 0.7386 - 334ms/epoch - 5ms/step\n",
      "Epoch 29/200\n",
      "66/66 - 0s - loss: 0.6052 - accuracy: 0.7192 - val_loss: 0.5777 - val_accuracy: 0.7386 - 300ms/epoch - 5ms/step\n",
      "Epoch 30/200\n",
      "66/66 - 0s - loss: 0.5993 - accuracy: 0.7192 - val_loss: 0.5810 - val_accuracy: 0.7386 - 299ms/epoch - 5ms/step\n",
      "Epoch 31/200\n",
      "66/66 - 0s - loss: 0.5996 - accuracy: 0.7192 - val_loss: 0.5751 - val_accuracy: 0.7386 - 308ms/epoch - 5ms/step\n",
      "Epoch 32/200\n",
      "66/66 - 0s - loss: 0.5998 - accuracy: 0.7192 - val_loss: 0.5814 - val_accuracy: 0.7386 - 300ms/epoch - 5ms/step\n",
      "Epoch 33/200\n",
      "66/66 - 0s - loss: 0.5992 - accuracy: 0.7192 - val_loss: 0.5830 - val_accuracy: 0.7386 - 299ms/epoch - 5ms/step\n",
      "Epoch 34/200\n",
      "66/66 - 0s - loss: 0.5951 - accuracy: 0.7192 - val_loss: 0.5815 - val_accuracy: 0.7386 - 294ms/epoch - 4ms/step\n",
      "Epoch 35/200\n",
      "66/66 - 0s - loss: 0.5974 - accuracy: 0.7192 - val_loss: 0.5749 - val_accuracy: 0.7386 - 309ms/epoch - 5ms/step\n",
      "Epoch 36/200\n",
      "66/66 - 0s - loss: 0.5964 - accuracy: 0.7192 - val_loss: 0.5747 - val_accuracy: 0.7386 - 295ms/epoch - 4ms/step\n",
      "Epoch 37/200\n",
      "66/66 - 0s - loss: 0.5970 - accuracy: 0.7192 - val_loss: 0.5940 - val_accuracy: 0.7386 - 300ms/epoch - 5ms/step\n",
      "Epoch 38/200\n",
      "66/66 - 0s - loss: 0.5988 - accuracy: 0.7192 - val_loss: 0.5807 - val_accuracy: 0.7386 - 312ms/epoch - 5ms/step\n",
      "Epoch 39/200\n",
      "66/66 - 0s - loss: 0.5995 - accuracy: 0.7192 - val_loss: 0.5808 - val_accuracy: 0.7386 - 321ms/epoch - 5ms/step\n",
      "Epoch 40/200\n",
      "66/66 - 0s - loss: 0.5990 - accuracy: 0.7192 - val_loss: 0.5771 - val_accuracy: 0.7386 - 303ms/epoch - 5ms/step\n",
      "Epoch 41/200\n",
      "66/66 - 0s - loss: 0.5959 - accuracy: 0.7192 - val_loss: 0.5750 - val_accuracy: 0.7386 - 322ms/epoch - 5ms/step\n",
      "Epoch 42/200\n",
      "66/66 - 0s - loss: 0.5978 - accuracy: 0.7192 - val_loss: 0.5746 - val_accuracy: 0.7386 - 310ms/epoch - 5ms/step\n",
      "Epoch 43/200\n",
      "66/66 - 0s - loss: 0.5958 - accuracy: 0.7192 - val_loss: 0.5753 - val_accuracy: 0.7386 - 299ms/epoch - 5ms/step\n",
      "Epoch 44/200\n",
      "66/66 - 0s - loss: 0.5967 - accuracy: 0.7192 - val_loss: 0.5776 - val_accuracy: 0.7386 - 307ms/epoch - 5ms/step\n",
      "Epoch 45/200\n",
      "66/66 - 0s - loss: 0.5988 - accuracy: 0.7192 - val_loss: 0.5825 - val_accuracy: 0.7386 - 305ms/epoch - 5ms/step\n",
      "Epoch 46/200\n",
      "66/66 - 0s - loss: 0.5993 - accuracy: 0.7192 - val_loss: 0.5749 - val_accuracy: 0.7386 - 298ms/epoch - 5ms/step\n",
      "Epoch 47/200\n",
      "66/66 - 0s - loss: 0.5959 - accuracy: 0.7192 - val_loss: 0.5839 - val_accuracy: 0.7386 - 318ms/epoch - 5ms/step\n",
      "Epoch 48/200\n",
      "66/66 - 0s - loss: 0.5967 - accuracy: 0.7192 - val_loss: 0.5757 - val_accuracy: 0.7386 - 307ms/epoch - 5ms/step\n",
      "Epoch 49/200\n",
      "66/66 - 0s - loss: 0.5975 - accuracy: 0.7192 - val_loss: 0.5751 - val_accuracy: 0.7386 - 301ms/epoch - 5ms/step\n",
      "Epoch 50/200\n",
      "66/66 - 0s - loss: 0.5972 - accuracy: 0.7192 - val_loss: 0.5848 - val_accuracy: 0.7386 - 297ms/epoch - 5ms/step\n",
      "Epoch 51/200\n",
      "66/66 - 0s - loss: 0.5945 - accuracy: 0.7192 - val_loss: 0.5745 - val_accuracy: 0.7386 - 308ms/epoch - 5ms/step\n",
      "Epoch 52/200\n",
      "66/66 - 0s - loss: 0.5968 - accuracy: 0.7192 - val_loss: 0.5752 - val_accuracy: 0.7386 - 305ms/epoch - 5ms/step\n",
      "Epoch 53/200\n",
      "66/66 - 0s - loss: 0.5985 - accuracy: 0.7192 - val_loss: 0.5771 - val_accuracy: 0.7386 - 307ms/epoch - 5ms/step\n",
      "Epoch 54/200\n",
      "66/66 - 0s - loss: 0.5995 - accuracy: 0.7192 - val_loss: 0.5764 - val_accuracy: 0.7386 - 316ms/epoch - 5ms/step\n",
      "Epoch 55/200\n",
      "66/66 - 0s - loss: 0.5939 - accuracy: 0.7192 - val_loss: 0.5842 - val_accuracy: 0.7386 - 302ms/epoch - 5ms/step\n",
      "Epoch 56/200\n",
      "66/66 - 0s - loss: 0.5985 - accuracy: 0.7192 - val_loss: 0.5745 - val_accuracy: 0.7386 - 304ms/epoch - 5ms/step\n",
      "Epoch 57/200\n",
      "66/66 - 0s - loss: 0.5976 - accuracy: 0.7192 - val_loss: 0.5747 - val_accuracy: 0.7386 - 306ms/epoch - 5ms/step\n",
      "Epoch 58/200\n",
      "66/66 - 0s - loss: 0.5963 - accuracy: 0.7192 - val_loss: 0.5910 - val_accuracy: 0.7386 - 299ms/epoch - 5ms/step\n",
      "Epoch 59/200\n",
      "66/66 - 0s - loss: 0.5968 - accuracy: 0.7192 - val_loss: 0.5746 - val_accuracy: 0.7386 - 299ms/epoch - 5ms/step\n",
      "Epoch 60/200\n",
      "66/66 - 0s - loss: 0.5992 - accuracy: 0.7196 - val_loss: 0.5883 - val_accuracy: 0.7386 - 311ms/epoch - 5ms/step\n",
      "Epoch 61/200\n",
      "66/66 - 0s - loss: 0.5949 - accuracy: 0.7192 - val_loss: 0.5746 - val_accuracy: 0.7386 - 312ms/epoch - 5ms/step\n",
      "Epoch 62/200\n",
      "66/66 - 0s - loss: 0.6013 - accuracy: 0.7192 - val_loss: 0.5800 - val_accuracy: 0.7386 - 309ms/epoch - 5ms/step\n",
      "Epoch 63/200\n",
      "66/66 - 0s - loss: 0.5984 - accuracy: 0.7192 - val_loss: 0.5750 - val_accuracy: 0.7386 - 303ms/epoch - 5ms/step\n",
      "Epoch 64/200\n",
      "66/66 - 0s - loss: 0.5967 - accuracy: 0.7192 - val_loss: 0.5762 - val_accuracy: 0.7386 - 310ms/epoch - 5ms/step\n",
      "Epoch 65/200\n",
      "66/66 - 0s - loss: 0.5950 - accuracy: 0.7192 - val_loss: 0.5815 - val_accuracy: 0.7386 - 303ms/epoch - 5ms/step\n",
      "Epoch 66/200\n",
      "66/66 - 0s - loss: 0.5975 - accuracy: 0.7192 - val_loss: 0.5761 - val_accuracy: 0.7386 - 304ms/epoch - 5ms/step\n",
      "Epoch 67/200\n",
      "66/66 - 0s - loss: 0.5978 - accuracy: 0.7192 - val_loss: 0.5795 - val_accuracy: 0.7386 - 307ms/epoch - 5ms/step\n",
      "Epoch 68/200\n",
      "66/66 - 0s - loss: 0.5972 - accuracy: 0.7192 - val_loss: 0.5854 - val_accuracy: 0.7386 - 305ms/epoch - 5ms/step\n",
      "Epoch 69/200\n",
      "66/66 - 0s - loss: 0.5953 - accuracy: 0.7192 - val_loss: 0.5760 - val_accuracy: 0.7386 - 303ms/epoch - 5ms/step\n",
      "Epoch 70/200\n",
      "66/66 - 0s - loss: 0.5958 - accuracy: 0.7192 - val_loss: 0.5756 - val_accuracy: 0.7386 - 312ms/epoch - 5ms/step\n",
      "Epoch 71/200\n",
      "66/66 - 0s - loss: 0.5973 - accuracy: 0.7192 - val_loss: 0.5746 - val_accuracy: 0.7386 - 308ms/epoch - 5ms/step\n",
      "Epoch 72/200\n",
      "66/66 - 0s - loss: 0.5988 - accuracy: 0.7192 - val_loss: 0.5798 - val_accuracy: 0.7386 - 306ms/epoch - 5ms/step\n",
      "Epoch 73/200\n",
      "66/66 - 0s - loss: 0.5990 - accuracy: 0.7192 - val_loss: 0.5876 - val_accuracy: 0.7386 - 327ms/epoch - 5ms/step\n",
      "Epoch 74/200\n",
      "66/66 - 0s - loss: 0.5957 - accuracy: 0.7192 - val_loss: 0.5747 - val_accuracy: 0.7386 - 299ms/epoch - 5ms/step\n",
      "Epoch 75/200\n",
      "66/66 - 0s - loss: 0.5981 - accuracy: 0.7192 - val_loss: 0.5772 - val_accuracy: 0.7386 - 315ms/epoch - 5ms/step\n",
      "Epoch 76/200\n",
      "66/66 - 0s - loss: 0.5959 - accuracy: 0.7192 - val_loss: 0.6008 - val_accuracy: 0.7386 - 298ms/epoch - 5ms/step\n",
      "Epoch 77/200\n",
      "66/66 - 0s - loss: 0.5966 - accuracy: 0.7192 - val_loss: 0.5747 - val_accuracy: 0.7386 - 322ms/epoch - 5ms/step\n",
      "Epoch 78/200\n",
      "66/66 - 0s - loss: 0.5961 - accuracy: 0.7192 - val_loss: 0.5763 - val_accuracy: 0.7386 - 312ms/epoch - 5ms/step\n",
      "Epoch 79/200\n",
      "66/66 - 0s - loss: 0.5971 - accuracy: 0.7192 - val_loss: 0.5754 - val_accuracy: 0.7386 - 300ms/epoch - 5ms/step\n",
      "Epoch 80/200\n",
      "66/66 - 0s - loss: 0.5950 - accuracy: 0.7192 - val_loss: 0.5762 - val_accuracy: 0.7386 - 307ms/epoch - 5ms/step\n",
      "Epoch 81/200\n",
      "66/66 - 0s - loss: 0.5981 - accuracy: 0.7192 - val_loss: 0.5889 - val_accuracy: 0.7386 - 302ms/epoch - 5ms/step\n",
      "Epoch 82/200\n",
      "66/66 - 0s - loss: 0.5955 - accuracy: 0.7192 - val_loss: 0.5785 - val_accuracy: 0.7386 - 300ms/epoch - 5ms/step\n",
      "Epoch 83/200\n",
      "66/66 - 0s - loss: 0.5986 - accuracy: 0.7192 - val_loss: 0.5759 - val_accuracy: 0.7386 - 310ms/epoch - 5ms/step\n",
      "Epoch 84/200\n",
      "66/66 - 0s - loss: 0.5998 - accuracy: 0.7192 - val_loss: 0.5745 - val_accuracy: 0.7386 - 304ms/epoch - 5ms/step\n",
      "Epoch 85/200\n",
      "66/66 - 0s - loss: 0.5969 - accuracy: 0.7192 - val_loss: 0.5922 - val_accuracy: 0.7386 - 314ms/epoch - 5ms/step\n",
      "Epoch 86/200\n",
      "66/66 - 0s - loss: 0.5977 - accuracy: 0.7192 - val_loss: 0.5747 - val_accuracy: 0.7386 - 333ms/epoch - 5ms/step\n",
      "Epoch 87/200\n",
      "66/66 - 0s - loss: 0.5965 - accuracy: 0.7192 - val_loss: 0.5779 - val_accuracy: 0.7386 - 331ms/epoch - 5ms/step\n",
      "Epoch 88/200\n",
      "66/66 - 0s - loss: 0.5993 - accuracy: 0.7192 - val_loss: 0.5749 - val_accuracy: 0.7386 - 314ms/epoch - 5ms/step\n",
      "Epoch 89/200\n",
      "66/66 - 0s - loss: 0.5956 - accuracy: 0.7192 - val_loss: 0.5785 - val_accuracy: 0.7386 - 357ms/epoch - 5ms/step\n",
      "Epoch 90/200\n",
      "66/66 - 0s - loss: 0.5973 - accuracy: 0.7192 - val_loss: 0.5799 - val_accuracy: 0.7386 - 310ms/epoch - 5ms/step\n",
      "Epoch 91/200\n",
      "66/66 - 0s - loss: 0.5992 - accuracy: 0.7192 - val_loss: 0.5745 - val_accuracy: 0.7386 - 319ms/epoch - 5ms/step\n",
      "Epoch 92/200\n",
      "66/66 - 0s - loss: 0.5960 - accuracy: 0.7192 - val_loss: 0.5838 - val_accuracy: 0.7386 - 322ms/epoch - 5ms/step\n",
      "Epoch 93/200\n",
      "66/66 - 0s - loss: 0.5972 - accuracy: 0.7192 - val_loss: 0.5745 - val_accuracy: 0.7386 - 310ms/epoch - 5ms/step\n",
      "Epoch 94/200\n",
      "66/66 - 0s - loss: 0.5952 - accuracy: 0.7192 - val_loss: 0.5757 - val_accuracy: 0.7386 - 304ms/epoch - 5ms/step\n",
      "Epoch 95/200\n",
      "66/66 - 0s - loss: 0.5957 - accuracy: 0.7192 - val_loss: 0.5761 - val_accuracy: 0.7386 - 309ms/epoch - 5ms/step\n",
      "Epoch 96/200\n",
      "66/66 - 0s - loss: 0.5985 - accuracy: 0.7192 - val_loss: 0.5756 - val_accuracy: 0.7386 - 303ms/epoch - 5ms/step\n",
      "Epoch 97/200\n",
      "66/66 - 0s - loss: 0.5941 - accuracy: 0.7192 - val_loss: 0.5751 - val_accuracy: 0.7386 - 301ms/epoch - 5ms/step\n",
      "Epoch 98/200\n",
      "66/66 - 0s - loss: 0.5998 - accuracy: 0.7192 - val_loss: 0.5934 - val_accuracy: 0.7386 - 305ms/epoch - 5ms/step\n",
      "Epoch 99/200\n",
      "66/66 - 0s - loss: 0.5953 - accuracy: 0.7192 - val_loss: 0.5759 - val_accuracy: 0.7386 - 311ms/epoch - 5ms/step\n",
      "Epoch 100/200\n",
      "66/66 - 0s - loss: 0.5973 - accuracy: 0.7192 - val_loss: 0.5790 - val_accuracy: 0.7386 - 298ms/epoch - 5ms/step\n",
      "Epoch 101/200\n",
      "66/66 - 0s - loss: 0.5971 - accuracy: 0.7192 - val_loss: 0.5750 - val_accuracy: 0.7386 - 330ms/epoch - 5ms/step\n",
      "Epoch 102/200\n",
      "66/66 - 0s - loss: 0.5963 - accuracy: 0.7192 - val_loss: 0.5831 - val_accuracy: 0.7386 - 334ms/epoch - 5ms/step\n",
      "Epoch 103/200\n",
      "66/66 - 0s - loss: 0.5964 - accuracy: 0.7192 - val_loss: 0.5747 - val_accuracy: 0.7386 - 373ms/epoch - 6ms/step\n",
      "Epoch 104/200\n",
      "66/66 - 0s - loss: 0.5979 - accuracy: 0.7192 - val_loss: 0.5760 - val_accuracy: 0.7386 - 345ms/epoch - 5ms/step\n",
      "Epoch 105/200\n",
      "66/66 - 0s - loss: 0.5965 - accuracy: 0.7192 - val_loss: 0.5760 - val_accuracy: 0.7386 - 328ms/epoch - 5ms/step\n",
      "Epoch 106/200\n",
      "66/66 - 0s - loss: 0.5967 - accuracy: 0.7192 - val_loss: 0.5862 - val_accuracy: 0.7386 - 308ms/epoch - 5ms/step\n",
      "Epoch 107/200\n",
      "66/66 - 0s - loss: 0.5980 - accuracy: 0.7192 - val_loss: 0.5751 - val_accuracy: 0.7386 - 300ms/epoch - 5ms/step\n",
      "Epoch 108/200\n",
      "66/66 - 0s - loss: 0.5980 - accuracy: 0.7192 - val_loss: 0.5799 - val_accuracy: 0.7386 - 351ms/epoch - 5ms/step\n",
      "Epoch 109/200\n",
      "66/66 - 0s - loss: 0.5989 - accuracy: 0.7192 - val_loss: 0.5866 - val_accuracy: 0.7386 - 326ms/epoch - 5ms/step\n",
      "Epoch 110/200\n",
      "66/66 - 0s - loss: 0.5953 - accuracy: 0.7192 - val_loss: 0.5746 - val_accuracy: 0.7386 - 344ms/epoch - 5ms/step\n",
      "Epoch 111/200\n",
      "66/66 - 0s - loss: 0.5968 - accuracy: 0.7192 - val_loss: 0.5840 - val_accuracy: 0.7386 - 344ms/epoch - 5ms/step\n",
      "Epoch 112/200\n",
      "66/66 - 0s - loss: 0.5986 - accuracy: 0.7192 - val_loss: 0.5748 - val_accuracy: 0.7386 - 335ms/epoch - 5ms/step\n",
      "Epoch 113/200\n",
      "66/66 - 0s - loss: 0.5993 - accuracy: 0.7192 - val_loss: 0.5850 - val_accuracy: 0.7386 - 324ms/epoch - 5ms/step\n",
      "Epoch 114/200\n",
      "66/66 - 0s - loss: 0.5966 - accuracy: 0.7192 - val_loss: 0.5747 - val_accuracy: 0.7386 - 322ms/epoch - 5ms/step\n",
      "Epoch 115/200\n",
      "66/66 - 0s - loss: 0.5977 - accuracy: 0.7192 - val_loss: 0.5818 - val_accuracy: 0.7386 - 319ms/epoch - 5ms/step\n",
      "Epoch 116/200\n",
      "66/66 - 0s - loss: 0.5954 - accuracy: 0.7192 - val_loss: 0.5783 - val_accuracy: 0.7386 - 333ms/epoch - 5ms/step\n",
      "Epoch 117/200\n",
      "66/66 - 0s - loss: 0.5962 - accuracy: 0.7192 - val_loss: 0.5755 - val_accuracy: 0.7386 - 390ms/epoch - 6ms/step\n",
      "Epoch 118/200\n",
      "66/66 - 0s - loss: 0.5962 - accuracy: 0.7192 - val_loss: 0.5805 - val_accuracy: 0.7386 - 381ms/epoch - 6ms/step\n",
      "Epoch 119/200\n",
      "66/66 - 0s - loss: 0.5996 - accuracy: 0.7192 - val_loss: 0.5784 - val_accuracy: 0.7386 - 393ms/epoch - 6ms/step\n",
      "Epoch 120/200\n",
      "66/66 - 0s - loss: 0.5963 - accuracy: 0.7192 - val_loss: 0.5747 - val_accuracy: 0.7386 - 406ms/epoch - 6ms/step\n",
      "Epoch 121/200\n",
      "66/66 - 0s - loss: 0.5975 - accuracy: 0.7192 - val_loss: 0.5860 - val_accuracy: 0.7386 - 371ms/epoch - 6ms/step\n",
      "Epoch 122/200\n",
      "66/66 - 0s - loss: 0.5970 - accuracy: 0.7192 - val_loss: 0.5765 - val_accuracy: 0.7386 - 361ms/epoch - 5ms/step\n",
      "Epoch 123/200\n",
      "66/66 - 0s - loss: 0.5953 - accuracy: 0.7192 - val_loss: 0.5765 - val_accuracy: 0.7386 - 357ms/epoch - 5ms/step\n",
      "Epoch 124/200\n",
      "66/66 - 0s - loss: 0.5976 - accuracy: 0.7192 - val_loss: 0.5746 - val_accuracy: 0.7386 - 358ms/epoch - 5ms/step\n",
      "Epoch 125/200\n",
      "66/66 - 0s - loss: 0.5972 - accuracy: 0.7192 - val_loss: 0.5816 - val_accuracy: 0.7386 - 355ms/epoch - 5ms/step\n",
      "Epoch 126/200\n",
      "66/66 - 0s - loss: 0.5979 - accuracy: 0.7192 - val_loss: 0.5764 - val_accuracy: 0.7386 - 350ms/epoch - 5ms/step\n",
      "Epoch 127/200\n",
      "66/66 - 0s - loss: 0.5972 - accuracy: 0.7192 - val_loss: 0.5886 - val_accuracy: 0.7386 - 388ms/epoch - 6ms/step\n",
      "Epoch 128/200\n",
      "66/66 - 0s - loss: 0.5962 - accuracy: 0.7192 - val_loss: 0.5756 - val_accuracy: 0.7386 - 397ms/epoch - 6ms/step\n",
      "Epoch 129/200\n",
      "66/66 - 0s - loss: 0.5969 - accuracy: 0.7192 - val_loss: 0.5782 - val_accuracy: 0.7386 - 398ms/epoch - 6ms/step\n",
      "Epoch 130/200\n",
      "66/66 - 0s - loss: 0.5984 - accuracy: 0.7192 - val_loss: 0.5757 - val_accuracy: 0.7386 - 406ms/epoch - 6ms/step\n",
      "Epoch 131/200\n",
      "66/66 - 0s - loss: 0.5975 - accuracy: 0.7192 - val_loss: 0.5757 - val_accuracy: 0.7386 - 352ms/epoch - 5ms/step\n",
      "Epoch 132/200\n",
      "66/66 - 0s - loss: 0.5974 - accuracy: 0.7192 - val_loss: 0.5788 - val_accuracy: 0.7386 - 357ms/epoch - 5ms/step\n",
      "Epoch 133/200\n",
      "66/66 - 0s - loss: 0.5959 - accuracy: 0.7192 - val_loss: 0.5757 - val_accuracy: 0.7386 - 353ms/epoch - 5ms/step\n",
      "Epoch 134/200\n",
      "66/66 - 0s - loss: 0.5958 - accuracy: 0.7192 - val_loss: 0.5766 - val_accuracy: 0.7386 - 390ms/epoch - 6ms/step\n",
      "Epoch 135/200\n",
      "66/66 - 0s - loss: 0.5982 - accuracy: 0.7192 - val_loss: 0.5745 - val_accuracy: 0.7386 - 390ms/epoch - 6ms/step\n",
      "Epoch 136/200\n",
      "66/66 - 0s - loss: 0.5961 - accuracy: 0.7192 - val_loss: 0.5753 - val_accuracy: 0.7386 - 377ms/epoch - 6ms/step\n",
      "Epoch 137/200\n",
      "66/66 - 0s - loss: 0.5962 - accuracy: 0.7192 - val_loss: 0.5762 - val_accuracy: 0.7386 - 377ms/epoch - 6ms/step\n",
      "Epoch 138/200\n",
      "66/66 - 0s - loss: 0.5990 - accuracy: 0.7192 - val_loss: 0.5745 - val_accuracy: 0.7386 - 385ms/epoch - 6ms/step\n",
      "Epoch 139/200\n",
      "66/66 - 0s - loss: 0.5992 - accuracy: 0.7192 - val_loss: 0.5748 - val_accuracy: 0.7386 - 413ms/epoch - 6ms/step\n",
      "Epoch 140/200\n",
      "66/66 - 0s - loss: 0.5959 - accuracy: 0.7192 - val_loss: 0.5811 - val_accuracy: 0.7386 - 453ms/epoch - 7ms/step\n",
      "Epoch 141/200\n",
      "66/66 - 0s - loss: 0.5958 - accuracy: 0.7192 - val_loss: 0.5752 - val_accuracy: 0.7386 - 461ms/epoch - 7ms/step\n",
      "Epoch 142/200\n",
      "66/66 - 0s - loss: 0.5958 - accuracy: 0.7192 - val_loss: 0.5819 - val_accuracy: 0.7386 - 401ms/epoch - 6ms/step\n",
      "Epoch 143/200\n",
      "66/66 - 0s - loss: 0.5966 - accuracy: 0.7192 - val_loss: 0.5794 - val_accuracy: 0.7386 - 353ms/epoch - 5ms/step\n",
      "Epoch 144/200\n",
      "66/66 - 0s - loss: 0.5978 - accuracy: 0.7192 - val_loss: 0.5746 - val_accuracy: 0.7386 - 381ms/epoch - 6ms/step\n",
      "Epoch 145/200\n",
      "66/66 - 0s - loss: 0.5942 - accuracy: 0.7192 - val_loss: 0.5747 - val_accuracy: 0.7386 - 358ms/epoch - 5ms/step\n",
      "Epoch 146/200\n",
      "66/66 - 0s - loss: 0.5968 - accuracy: 0.7192 - val_loss: 0.5768 - val_accuracy: 0.7386 - 406ms/epoch - 6ms/step\n",
      "Epoch 147/200\n",
      "66/66 - 0s - loss: 0.5969 - accuracy: 0.7192 - val_loss: 0.5749 - val_accuracy: 0.7386 - 387ms/epoch - 6ms/step\n",
      "Epoch 148/200\n",
      "66/66 - 0s - loss: 0.5962 - accuracy: 0.7192 - val_loss: 0.5782 - val_accuracy: 0.7386 - 396ms/epoch - 6ms/step\n",
      "Epoch 149/200\n",
      "66/66 - 0s - loss: 0.5961 - accuracy: 0.7192 - val_loss: 0.5865 - val_accuracy: 0.7386 - 413ms/epoch - 6ms/step\n",
      "Epoch 150/200\n",
      "66/66 - 0s - loss: 0.6000 - accuracy: 0.7192 - val_loss: 0.5809 - val_accuracy: 0.7386 - 390ms/epoch - 6ms/step\n",
      "Epoch 151/200\n",
      "66/66 - 0s - loss: 0.5984 - accuracy: 0.7192 - val_loss: 0.5798 - val_accuracy: 0.7386 - 358ms/epoch - 5ms/step\n",
      "Epoch 152/200\n",
      "66/66 - 0s - loss: 0.5967 - accuracy: 0.7192 - val_loss: 0.5788 - val_accuracy: 0.7386 - 360ms/epoch - 5ms/step\n",
      "Epoch 153/200\n",
      "66/66 - 0s - loss: 0.5964 - accuracy: 0.7192 - val_loss: 0.5796 - val_accuracy: 0.7386 - 364ms/epoch - 6ms/step\n",
      "Epoch 154/200\n",
      "66/66 - 0s - loss: 0.5959 - accuracy: 0.7192 - val_loss: 0.5870 - val_accuracy: 0.7386 - 419ms/epoch - 6ms/step\n",
      "Epoch 155/200\n",
      "66/66 - 0s - loss: 0.5977 - accuracy: 0.7192 - val_loss: 0.5752 - val_accuracy: 0.7386 - 371ms/epoch - 6ms/step\n",
      "Epoch 156/200\n",
      "66/66 - 0s - loss: 0.5957 - accuracy: 0.7192 - val_loss: 0.5754 - val_accuracy: 0.7386 - 365ms/epoch - 6ms/step\n",
      "Epoch 157/200\n",
      "66/66 - 0s - loss: 0.5987 - accuracy: 0.7192 - val_loss: 0.5747 - val_accuracy: 0.7386 - 352ms/epoch - 5ms/step\n",
      "Epoch 158/200\n",
      "66/66 - 0s - loss: 0.5978 - accuracy: 0.7192 - val_loss: 0.5745 - val_accuracy: 0.7386 - 392ms/epoch - 6ms/step\n",
      "Epoch 159/200\n",
      "66/66 - 0s - loss: 0.5958 - accuracy: 0.7192 - val_loss: 0.5772 - val_accuracy: 0.7386 - 432ms/epoch - 7ms/step\n",
      "Epoch 160/200\n",
      "66/66 - 0s - loss: 0.5977 - accuracy: 0.7192 - val_loss: 0.5746 - val_accuracy: 0.7386 - 377ms/epoch - 6ms/step\n",
      "Epoch 161/200\n",
      "66/66 - 0s - loss: 0.5987 - accuracy: 0.7192 - val_loss: 0.6020 - val_accuracy: 0.7386 - 376ms/epoch - 6ms/step\n",
      "Epoch 162/200\n",
      "66/66 - 0s - loss: 0.5987 - accuracy: 0.7192 - val_loss: 0.5749 - val_accuracy: 0.7386 - 330ms/epoch - 5ms/step\n",
      "Epoch 163/200\n",
      "66/66 - 0s - loss: 0.5968 - accuracy: 0.7192 - val_loss: 0.5751 - val_accuracy: 0.7386 - 315ms/epoch - 5ms/step\n",
      "Epoch 164/200\n",
      "66/66 - 0s - loss: 0.5943 - accuracy: 0.7192 - val_loss: 0.5846 - val_accuracy: 0.7386 - 317ms/epoch - 5ms/step\n",
      "Epoch 165/200\n",
      "66/66 - 0s - loss: 0.5977 - accuracy: 0.7192 - val_loss: 0.5815 - val_accuracy: 0.7386 - 327ms/epoch - 5ms/step\n",
      "Epoch 166/200\n",
      "66/66 - 0s - loss: 0.5993 - accuracy: 0.7192 - val_loss: 0.5776 - val_accuracy: 0.7386 - 324ms/epoch - 5ms/step\n",
      "Epoch 167/200\n",
      "66/66 - 0s - loss: 0.5954 - accuracy: 0.7192 - val_loss: 0.5752 - val_accuracy: 0.7386 - 331ms/epoch - 5ms/step\n",
      "Epoch 168/200\n",
      "66/66 - 0s - loss: 0.5979 - accuracy: 0.7192 - val_loss: 0.5745 - val_accuracy: 0.7386 - 329ms/epoch - 5ms/step\n",
      "Epoch 169/200\n",
      "66/66 - 0s - loss: 0.5974 - accuracy: 0.7192 - val_loss: 0.5774 - val_accuracy: 0.7386 - 327ms/epoch - 5ms/step\n",
      "Epoch 170/200\n",
      "66/66 - 0s - loss: 0.5973 - accuracy: 0.7192 - val_loss: 0.5747 - val_accuracy: 0.7386 - 325ms/epoch - 5ms/step\n",
      "Epoch 171/200\n",
      "66/66 - 0s - loss: 0.5993 - accuracy: 0.7192 - val_loss: 0.5746 - val_accuracy: 0.7386 - 310ms/epoch - 5ms/step\n",
      "Epoch 172/200\n",
      "66/66 - 0s - loss: 0.5982 - accuracy: 0.7192 - val_loss: 0.5792 - val_accuracy: 0.7386 - 307ms/epoch - 5ms/step\n",
      "Epoch 173/200\n",
      "66/66 - 0s - loss: 0.5965 - accuracy: 0.7192 - val_loss: 0.5751 - val_accuracy: 0.7386 - 311ms/epoch - 5ms/step\n",
      "Epoch 174/200\n",
      "66/66 - 0s - loss: 0.5973 - accuracy: 0.7192 - val_loss: 0.5750 - val_accuracy: 0.7386 - 309ms/epoch - 5ms/step\n",
      "Epoch 175/200\n",
      "66/66 - 0s - loss: 0.5987 - accuracy: 0.7192 - val_loss: 0.5764 - val_accuracy: 0.7386 - 308ms/epoch - 5ms/step\n",
      "Epoch 176/200\n",
      "66/66 - 0s - loss: 0.5970 - accuracy: 0.7192 - val_loss: 0.5809 - val_accuracy: 0.7386 - 316ms/epoch - 5ms/step\n",
      "Epoch 177/200\n",
      "66/66 - 0s - loss: 0.5993 - accuracy: 0.7192 - val_loss: 0.5773 - val_accuracy: 0.7386 - 307ms/epoch - 5ms/step\n",
      "Epoch 178/200\n",
      "66/66 - 0s - loss: 0.5952 - accuracy: 0.7192 - val_loss: 0.5754 - val_accuracy: 0.7386 - 309ms/epoch - 5ms/step\n",
      "Epoch 179/200\n",
      "66/66 - 0s - loss: 0.5958 - accuracy: 0.7192 - val_loss: 0.5884 - val_accuracy: 0.7386 - 310ms/epoch - 5ms/step\n",
      "Epoch 180/200\n",
      "66/66 - 0s - loss: 0.5980 - accuracy: 0.7192 - val_loss: 0.5772 - val_accuracy: 0.7386 - 306ms/epoch - 5ms/step\n",
      "Epoch 181/200\n",
      "66/66 - 0s - loss: 0.5970 - accuracy: 0.7192 - val_loss: 0.5796 - val_accuracy: 0.7386 - 303ms/epoch - 5ms/step\n",
      "Epoch 182/200\n",
      "66/66 - 0s - loss: 0.5967 - accuracy: 0.7192 - val_loss: 0.5768 - val_accuracy: 0.7386 - 306ms/epoch - 5ms/step\n",
      "Epoch 183/200\n",
      "66/66 - 0s - loss: 0.5967 - accuracy: 0.7192 - val_loss: 0.5748 - val_accuracy: 0.7386 - 312ms/epoch - 5ms/step\n",
      "Epoch 184/200\n",
      "66/66 - 0s - loss: 0.5965 - accuracy: 0.7192 - val_loss: 0.5865 - val_accuracy: 0.7386 - 300ms/epoch - 5ms/step\n",
      "Epoch 185/200\n",
      "66/66 - 0s - loss: 0.5977 - accuracy: 0.7192 - val_loss: 0.5751 - val_accuracy: 0.7386 - 310ms/epoch - 5ms/step\n",
      "Epoch 186/200\n",
      "66/66 - 0s - loss: 0.5970 - accuracy: 0.7192 - val_loss: 0.5749 - val_accuracy: 0.7386 - 306ms/epoch - 5ms/step\n",
      "Epoch 187/200\n",
      "66/66 - 0s - loss: 0.5973 - accuracy: 0.7192 - val_loss: 0.5763 - val_accuracy: 0.7386 - 313ms/epoch - 5ms/step\n",
      "Epoch 188/200\n",
      "66/66 - 0s - loss: 0.5972 - accuracy: 0.7192 - val_loss: 0.5979 - val_accuracy: 0.7386 - 306ms/epoch - 5ms/step\n",
      "Epoch 189/200\n",
      "66/66 - 0s - loss: 0.5976 - accuracy: 0.7192 - val_loss: 0.5746 - val_accuracy: 0.7386 - 313ms/epoch - 5ms/step\n",
      "Epoch 190/200\n",
      "66/66 - 0s - loss: 0.5987 - accuracy: 0.7192 - val_loss: 0.5971 - val_accuracy: 0.7386 - 310ms/epoch - 5ms/step\n",
      "Epoch 191/200\n",
      "66/66 - 0s - loss: 0.5987 - accuracy: 0.7192 - val_loss: 0.5826 - val_accuracy: 0.7386 - 342ms/epoch - 5ms/step\n",
      "Epoch 192/200\n",
      "66/66 - 0s - loss: 0.5996 - accuracy: 0.7192 - val_loss: 0.5956 - val_accuracy: 0.7386 - 347ms/epoch - 5ms/step\n",
      "Epoch 193/200\n",
      "66/66 - 0s - loss: 0.6004 - accuracy: 0.7192 - val_loss: 0.5782 - val_accuracy: 0.7386 - 315ms/epoch - 5ms/step\n",
      "Epoch 194/200\n",
      "66/66 - 0s - loss: 0.5978 - accuracy: 0.7192 - val_loss: 0.5801 - val_accuracy: 0.7386 - 307ms/epoch - 5ms/step\n",
      "Epoch 195/200\n",
      "66/66 - 0s - loss: 0.5963 - accuracy: 0.7192 - val_loss: 0.5756 - val_accuracy: 0.7386 - 335ms/epoch - 5ms/step\n",
      "Epoch 196/200\n",
      "66/66 - 0s - loss: 0.5959 - accuracy: 0.7192 - val_loss: 0.5746 - val_accuracy: 0.7386 - 307ms/epoch - 5ms/step\n",
      "Epoch 197/200\n",
      "66/66 - 0s - loss: 0.5952 - accuracy: 0.7192 - val_loss: 0.5746 - val_accuracy: 0.7386 - 329ms/epoch - 5ms/step\n",
      "Epoch 198/200\n",
      "66/66 - 0s - loss: 0.5966 - accuracy: 0.7192 - val_loss: 0.5747 - val_accuracy: 0.7386 - 350ms/epoch - 5ms/step\n",
      "Epoch 199/200\n",
      "66/66 - 0s - loss: 0.5968 - accuracy: 0.7192 - val_loss: 0.5757 - val_accuracy: 0.7386 - 344ms/epoch - 5ms/step\n",
      "Epoch 200/200\n",
      "66/66 - 0s - loss: 0.5986 - accuracy: 0.7192 - val_loss: 0.5772 - val_accuracy: 0.7386 - 335ms/epoch - 5ms/step\n"
     ]
    }
   ],
   "source": [
    "batched_history =  batched_model.fit(\n",
    "    X_train, \n",
    "    y_train, \n",
    "    epochs=200, \n",
    "    validation_split=0.25, \n",
    "    batch_size=40, \n",
    "    verbose=2\n",
    ")"
   ]
  },
  {
   "cell_type": "code",
   "execution_count": 25,
   "metadata": {},
   "outputs": [],
   "source": [
    "%matplotlib inline\n",
    "%config InlineBackend.figure_format = 'png'\n",
    "def plot_metric(history, metric):\n",
    "    train_metrics = history.history[metric]\n",
    "    val_metrics = history.history['val_'+metric]\n",
    "    epochs = range(1, len(train_metrics) + 1)\n",
    "    plt.plot(epochs, train_metrics)\n",
    "    plt.plot(epochs, val_metrics)\n",
    "    plt.title('Training and validation '+ metric)\n",
    "    plt.xlabel(\"Epochs\")\n",
    "    plt.ylabel(metric)\n",
    "    plt.legend([\"train_\"+metric, 'val_'+metric])\n",
    "    plt.show()"
   ]
  },
  {
   "cell_type": "code",
   "execution_count": 26,
   "metadata": {},
   "outputs": [
    {
     "data": {
      "image/png": "[encoded data removed]",
      "text/plain": [
       "<Figure size 640x480 with 1 Axes>"
      ]
     },
     "metadata": {},
     "output_type": "display_data"
    }
   ],
   "source": [
    "plot_metric(batched_history, 'accuracy')"
   ]
  },
  {
   "cell_type": "code",
   "execution_count": 27,
   "metadata": {},
   "outputs": [
    {
     "data": {
      "image/png": "[encoded data removed]",
      "text/plain": [
       "<Figure size 640x480 with 1 Axes>"
      ]
     },
     "metadata": {},
     "output_type": "display_data"
    }
   ],
   "source": [
    "plot_metric(batched_history, 'loss')"
   ]
  },
  {
   "cell_type": "code",
   "execution_count": 24,
   "metadata": {},
   "outputs": [
    {
     "name": "stdout",
     "output_type": "stream",
     "text": [
      "28/28 - 0s - loss: 0.5952 - accuracy: 0.7180 - 73ms/epoch - 3ms/step\n"
     ]
    },
    {
     "data": {
      "text/plain": [
       "[0.5951686501502991, 0.7180365324020386]"
      ]
     },
     "execution_count": 24,
     "metadata": {},
     "output_type": "execute_result"
    }
   ],
   "source": [
    "batched_model.evaluate(X_test, y_test, verbose=2)"
   ]
  }
 ],
 "metadata": {
  "kernelspec": {
   "display_name": "Python 3",
   "language": "python",
   "name": "python3"
  },
  "language_info": {
   "codemirror_mode": {
    "name": "ipython",
    "version": 3
   },
   "file_extension": ".py",
   "mimetype": "text/x-python",
   "name": "python",
   "nbconvert_exporter": "python",
   "pygments_lexer": "ipython3",
   "version": "3.11.3"
  },
  "orig_nbformat": 4
 },
 "nbformat": 4,
 "nbformat_minor": 2
}
